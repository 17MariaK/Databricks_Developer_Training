{
 "cells": [
  {
   "cell_type": "markdown",
   "metadata": {
    "application/vnd.databricks.v1+cell": {
     "cellMetadata": {},
     "inputWidgets": {},
     "nuid": "6b34cfd0-832d-419c-a235-79c2ed836cff",
     "showTitle": false,
     "tableResultSettingsMap": {},
     "title": ""
    }
   },
   "source": [
    "## 🧭 From Business Need to Data Model – Decision Flow for Analysts & Engineers\n",
    "\n",
    "When implementing a new data model, **Business Analysts** and **Data Engineers** need to collaborate closely. To ensure the model supports the business case, it's important to answer a structured set of questions together before stories and tasks could be confirmed and specified in Jira.\n",
    "In this section **we will go through set of questions** which should be answered. For clarity from **technical perspective please refer to previous sections** where in basic way each technicality is described.\n",
    "\n",
    "---\n",
    "\n",
    "### 📦 1. What are the Data Sources?\n",
    "\n",
    "| Question | Why It Matters |\n",
    "|----------|----------------|\n",
    "| Are we sourcing from **SAP**, **CSV**, **API**, **IoT**, or **External DBs**? | Affects ingestion method, latency, and transformations. |\n",
    "| Is it **Structured** or **Unstructured** data, does it contain LOBs ?  | Determines complexity of solution. |\n",
    "| Do we have **GxP/SOX** requirements, specific **data contracts** to follow? | Determines compliance architecture. |\n",
    "| Do we have **already existing connection**? | Determines effort to add new resource. |\n",
    "\n",
    "---\n",
    "\n",
    "### 🔄 2. What Type of Data Refresh is Needed?\n",
    "\n",
    "| Option | Description |\n",
    "|--------|-------------|\n",
    "| **Batch Processing** | Data updates periodically (e.g., daily or hourly). |\n",
    "| **Streaming / Near Real-Time** | Required for use cases like monitoring, dashboards, alerts. Implemented with DLT + MSK (Kafka) or LakeFlow Connect. |\n",
    "| **Is Underlying database/source prepared with capacity for providing data?** | Especially in streaming. Event logs should be available to incrementaly load data and Database should handle extra load. |\n",
    "---\n",
    "\n",
    "### 🧩 2. What Kind of Data Model is Required?\n",
    "\n",
    "| Question | Why It Matters |\n",
    "|---------|----------------|\n",
    "| Is this a **Star** or **Snowflake** schema? | Affects table structure and performance optimization. |\n",
    "| Will the model include **dimensions** and **facts**? | Determines normalization and fact-to-dim joins. |\n",
    "| Does it require **data from other domains or teams**? | Dependency tracking, data availability, responsibility across teams. |\n",
    "\n",
    "---\n",
    "\n",
    "### ⚙️ 3. What Is the Load Strategy?\n",
    "\n",
    "| Question | Why It Matters |\n",
    "|----------|----------------|\n",
    "| Do we need to track changes using **SCD Type 1**, **1.5**, or **2**? | Impacts schema design — SCD2 requires historical tracking with versioning or date ranges. |\n",
    "| Does the source system support **CDC (Change Data Capture)**? | Required to detect changes for incremental loads, especially with SCD2. |\n",
    "| Are **deletes** tracked or soft-deleted in source? | Important for data retention logic and historical correctness. |\n",
    "\n",
    "---\n",
    "\n",
    "### 🧼 5. Does the Data Require Standardization, Quality Checks, or Access Control?\n",
    "\n",
    "Standardization and compliance are critical, especially in regulated environments like pharma. This step ensures your data is **trusted**, **consistent**, and **secure**.\n",
    "\n",
    "| Question | Why It Matters |\n",
    "|----------|----------------|\n",
    "| Does the data need **standardization via MDM mapping of golden values**? | Is there existing mapping or new should be implemented ( creates dependency on MDM). |\n",
    "| Are **business data quality checks** required (complex business rules besides simple technical checks)? | Prevents incorrect KPIs and flawed insights. Implemented via DQH Engine or pipeline expectations. |\n",
    "| Does the data require **masking, obfuscation, or row-level filtering**? | Critical for PII, sensitive data, and regulatory compliance (e.g., GxP, GDPR). |\n",
    "| Do we need to **tag or label tables/columns** for governance? | Enables lineage tracking, compliance audits, and discoverability in Unity Catalog. Implementation with One Data Catalog |\n",
    "\n",
    "\n",
    "\n",
    "---\n",
    "### 📊 4. Will the Data Be Used for Dashboarding or API Consumption?\n",
    "\n",
    "| Question | Why It Matters |\n",
    "|----------|----------------|\n",
    "| Is the data consumed by **dashboards (e.g., Power BI, Tableau)**? | Requires fast aggregations, clean joins, and user-friendly fields. |\n",
    "| Will it serve **API endpoints or data products**? | Requires stable schemas, consistent latency, and simplified result sets. |\n",
    "| Is the data **aggregated or raw**? | Affects performance, cost, and how modeling logic is applied. |\n",
    "\n",
    "\n",
    "\n",
    "\n",
    "📌 Once these questions are aligned, the engineering team can confidently proceed with implementation using the right modeling, tools (DLT, Unity Catalog, etc.), and schedule.\n"
   ]
  }
 ],
 "metadata": {
  "application/vnd.databricks.v1+notebook": {
   "computePreferences": null,
   "dashboards": [],
   "environmentMetadata": {
    "base_environment": "",
    "environment_version": "2"
   },
   "inputWidgetPreferences": null,
   "language": "sql",
   "notebookMetadata": {
    "pythonIndentUnit": 4
   },
   "notebookName": "5.1 Concept to model Q&A",
   "widgets": {}
  },
  "language_info": {
   "name": "sql"
  }
 },
 "nbformat": 4,
 "nbformat_minor": 0
}
