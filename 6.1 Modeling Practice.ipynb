{
 "cells": [
  {
   "cell_type": "code",
   "execution_count": 0,
   "metadata": {
    "application/vnd.databricks.v1+cell": {
     "cellMetadata": {},
     "inputWidgets": {},
     "nuid": "128e89b2-afee-495f-9769-4d7766f2316a",
     "showTitle": false,
     "tableResultSettingsMap": {},
     "title": ""
    }
   },
   "outputs": [],
   "source": [
    "-- 🔹 lake Customers Table\n",
    "CREATE OR REFRESH LIVE TABLE lake_schema.customers\n",
    "COMMENT \"lake customer data\"\n",
    "AS SELECT * FROM VALUES\n",
    "  (1, \"Alice\", \"US\"),\n",
    "  (2, \"Bob\", \"DE\"),\n",
    "  (3, \"Charlie\", \"FR\")\n",
    "AS data(customer_id, name, country);\n",
    "\n",
    "-- 🔹 lake Products Table\n",
    "CREATE OR REFRESH LIVE TABLE lake_schema.products\n",
    "COMMENT \"lake product data\"\n",
    "AS SELECT * FROM VALUES\n",
    "  (101, \"Laptop\", \"Electronics\"),\n",
    "  (102, \"Chair\", \"Furniture\"),\n",
    "  (103, \"Pen\", \"Stationery\")\n",
    "AS data(product_id, product_name, category);\n",
    "\n",
    "-- 🔹 lake Sales Table\n",
    "CREATE OR REFRESH LIVE TABLE lake_schema.sales\n",
    "COMMENT \"lake sales data\"\n",
    "AS SELECT * FROM VALUES\n",
    "  (1, 101, \"2024-01-01\", 1200),\n",
    "  (2, 103, \"2024-01-02\", 5),\n",
    "  (3, 102, \"2024-01-03\", 100)\n",
    "AS data(customer_id, product_id, date, amount);"
   ]
  },
  {
   "cell_type": "code",
   "execution_count": 0,
   "metadata": {
    "application/vnd.databricks.v1+cell": {
     "cellMetadata": {},
     "inputWidgets": {},
     "nuid": "2498f1a4-c693-491f-87b5-b003551a7c0b",
     "showTitle": false,
     "tableResultSettingsMap": {},
     "title": ""
    }
   },
   "outputs": [],
   "source": [
    "-- 🌟 Dimension Table: Customers\n",
    "CREATE OR REFRESH LIVE TABLE hub_schema.dim_customers(\n",
    "  customer_id INTEGER PRIMARY KEY,\n",
    "  customer_name STRING,\n",
    "  country STRING\n",
    ")\n",
    "COMMENT \"Customer dimension with PK\"\n",
    "TBLPROPERTIES (\n",
    "  'quality' = 'gold'\n",
    ")\n",
    "AS SELECT \n",
    "  customer_id,\n",
    "  name AS customer_name,\n",
    "  country\n",
    "FROM lake_schema.customers;\n",
    "\n",
    "-- 🌟 Dimension Table: Products\n",
    "CREATE OR REFRESH LIVE TABLE hub_schema.dim_products(\n",
    "  product_id INTEGER PRIMARY KEY,\n",
    "  name STRING,\n",
    "  category STRING\n",
    ")\n",
    "COMMENT \"Product dimension with PK\"\n",
    "TBLPROPERTIES (\n",
    "  'quality' = 'gold'\n",
    ")\n",
    "AS SELECT \n",
    "  product_id,\n",
    "  product_name AS name,\n",
    "  category\n",
    "FROM lake_schema.products;\n",
    "\n",
    "-- 📦 Fact Table with joins + FK to dimensions\n",
    "CREATE OR REFRESH LIVE TABLE hub_schema.fact_sales_star(\n",
    "  row_key STRING PRIMARY KEY,\n",
    "  customer_id INTEGER,\n",
    "  product_id INTEGER,\n",
    "  --customer_id INTEGER FOREIGN KEY REFERENCES hub_schema.dim_customers(customer_id),\n",
    "  --product_id INTEGER FOREIGN KEY REFERENCES hub_schema.dim_products(product_id),\n",
    "  customer_name STRING,\n",
    "  product_name STRING,\n",
    "  category STRING,\n",
    "  amount DOUBLE,\n",
    "  date DATE\n",
    ")\n",
    "COMMENT \"Sales fact table joined with customer and product dimensions\"\n",
    "TBLPROPERTIES (\n",
    "  'quality' = 'gold'\n",
    ")\n",
    "AS SELECT \n",
    "  MD5(CONCAT_ws(\"|\",sales.customer_id, sales.product_id)) as row_key,\n",
    "  sales.customer_id,\n",
    "  sales.product_id,\n",
    "  cust.customer_name,\n",
    "  prod.name as product_name,\n",
    "  prod.category,\n",
    "  CAST(sales.amount AS DOUBLE) AS amount,\n",
    "  TO_DATE(sales.date) AS date\n",
    "FROM lake_schema.sales sales\n",
    "JOIN hub_schema.dim_customers cust ON sales.customer_id = cust.customer_id\n",
    "JOIN hub_schema.dim_products prod ON sales.product_id = prod.product_id;\n"
   ]
  }
 ],
 "metadata": {
  "application/vnd.databricks.v1+notebook": {
   "computePreferences": null,
   "dashboards": [],
   "environmentMetadata": {
    "base_environment": "",
    "environment_version": "2"
   },
   "inputWidgetPreferences": null,
   "language": "sql",
   "notebookMetadata": {
    "pythonIndentUnit": 4
   },
   "notebookName": "6.1 Modeling Practice",
   "widgets": {}
  },
  "language_info": {
   "name": "sql"
  }
 },
 "nbformat": 4,
 "nbformat_minor": 0
}
