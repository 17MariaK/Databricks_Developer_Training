{
 "cells": [
  {
   "cell_type": "markdown",
   "metadata": {
    "application/vnd.databricks.v1+cell": {
     "cellMetadata": {},
     "inputWidgets": {},
     "nuid": "2767f659-348e-492b-85ef-270163559f16",
     "showTitle": false,
     "tableResultSettingsMap": {},
     "title": ""
    }
   },
   "source": [
    "## ❗❗❗Before starting the training❗❗❗\n",
    "- final reminder that if you are not familiar with SQL syntax please follow this simple training to start form scratch: https://sqlbolt.com/lesson/select_queries_introduction\n",
    "- if your work requires deeper knowledge or you find interesting to deepdive to sql and its working please refer to section 3.SQL upskilling ( book for self paced learning of SQL) https://onetakeda.atlassian.net/wiki/spaces/DIME/pages/6240174176/Data+Modeler+upskilling+guide\n",
    "- this training counts with basic knowledge of sql and focuses on our use cases (describes and points out how we use sql syntax when building with standardized logic)"
   ]
  },
  {
   "cell_type": "markdown",
   "metadata": {
    "application/vnd.databricks.v1+cell": {
     "cellMetadata": {},
     "inputWidgets": {},
     "nuid": "920e0f05-20f0-49c1-85fc-75cccc23efea",
     "showTitle": false,
     "tableResultSettingsMap": {},
     "title": ""
    }
   },
   "source": [
    "## Building prerequisites\n"
   ]
  },
  {
   "cell_type": "code",
   "execution_count": 0,
   "metadata": {
    "application/vnd.databricks.v1+cell": {
     "cellMetadata": {
      "byteLimit": 2048000,
      "rowLimit": 10000
     },
     "inputWidgets": {},
     "nuid": "12a1984f-d10e-4e29-9feb-469e8379643d",
     "showTitle": true,
     "tableResultSettingsMap": {},
     "title": "prerequisites"
    }
   },
   "outputs": [],
   "source": [
    "-- Sales table\n",
    "CREATE OR REPLACE TEMP VIEW sales_demo AS\n",
    "SELECT * FROM VALUES\n",
    "  ('2025-07-01', 'Apples', 10, 2.5, 'North'),\n",
    "  ('2025-07-01', 'Oranges', 5, 3.0, 'North'),\n",
    "  ('2025-07-02', 'Apples', 8, 2.5, 'South'),\n",
    "  ('2025-07-02', 'Bananas', 15, 1.2, Null),\n",
    "  ('2025-07-03', 'Oranges', 7, 3.0, 'East')\n",
    "AS sales(date, product, quantity, price_per_unit, region);\n",
    "\n",
    "-- product categories table\n",
    "CREATE OR REPLACE TEMP VIEW product_categories AS\n",
    "SELECT * FROM VALUES\n",
    "  ('Apples', 'Fruit'),\n",
    "  ('Oranges', 'Fruit'),\n",
    "  ('Tomatoes', 'Vegetable')\n",
    "AS categories(product, category);\n",
    "\n",
    "-- Sales extra (for union)\n",
    "CREATE OR REPLACE TEMP VIEW sales_extra AS\n",
    "SELECT * FROM VALUES\n",
    "  ('2025-07-04', 'Apples', 6, 2.5, 'North'),\n",
    "  ('2025-07-04', 'Oranges', 9, 3.0, 'West'),\n",
    "  ('2025-07-03', 'Oranges', 7, 3.0, 'East')\n",
    "AS sales(date, product, quantity, price_per_unit, region);\n",
    "\n",
    "-- Customers table\n",
    "CREATE OR REPLACE TEMP VIEW customers AS\n",
    "SELECT * FROM VALUES\n",
    "  (1, 'Alice'),\n",
    "  (2, 'Bob'),\n",
    "  (3, 'Charlie'),\n",
    "  (4, 'Diana')\n",
    "AS customers(customer_id, name);\n",
    "\n",
    "-- Orders table\n",
    "CREATE OR REPLACE TEMP VIEW orders AS\n",
    "SELECT * FROM VALUES\n",
    "  (101, 1, '2023-01-10'),\n",
    "  (102, 1, '2023-03-15'),\n",
    "  (103, 1, '2023-06-20'),\n",
    "  (104, 2, '2023-02-12'),\n",
    "  (105, 3, '2023-04-25'),\n",
    "  (106, 3, '2023-07-30')\n",
    "AS orders(order_id, customer_id, order_date);"
   ]
  },
  {
   "cell_type": "markdown",
   "metadata": {
    "application/vnd.databricks.v1+cell": {
     "cellMetadata": {},
     "inputWidgets": {},
     "nuid": "666db885-bba0-4e81-bd30-26ea0379f718",
     "showTitle": false,
     "tableResultSettingsMap": {},
     "title": ""
    }
   },
   "source": [
    "\n",
    "\n",
    "## 🧪 SELECT and Functions\n",
    "\n",
    "Let's explore how to use SELECT queries with some of the useful functions.\n",
    "\n",
    "for more possibilities check documentation:\n",
    "🔗 https://spark.apache.org/docs/latest/api/sql/index.html "
   ]
  },
  {
   "cell_type": "code",
   "execution_count": 0,
   "metadata": {
    "application/vnd.databricks.v1+cell": {
     "cellMetadata": {
      "byteLimit": 2048000,
      "rowLimit": 10000
     },
     "inputWidgets": {},
     "nuid": "e136ff31-1995-48e9-b830-71023305ea55",
     "showTitle": true,
     "tableResultSettingsMap": {},
     "title": "Date and conditional logic"
    }
   },
   "outputs": [],
   "source": [
    "SELECT\n",
    "  date,\n",
    "  year(date),\n",
    "  month(date),\n",
    "  product,\n",
    "  quantity,\n",
    "  CASE \n",
    "    WHEN quantity > 10 THEN 'High'\n",
    "    WHEN quantity > 5 THEN 'Medium'\n",
    "    ELSE 'Low'\n",
    "  END AS demand_level\n",
    "FROM sales_demo;"
   ]
  },
  {
   "cell_type": "markdown",
   "metadata": {
    "application/vnd.databricks.v1+cell": {
     "cellMetadata": {},
     "inputWidgets": {},
     "nuid": "5862c36b-f1a3-4848-a467-ce9d7ed87120",
     "showTitle": false,
     "tableResultSettingsMap": {},
     "title": ""
    }
   },
   "source": [
    "\n",
    "### 🔗 String Concatenation in Spark SQL\n",
    "\n",
    "When combining multiple columns into a single string, Spark SQL offers:\n",
    "\n",
    "| Function     | Description |\n",
    "|--------------|-------------|\n",
    "| `CONCAT(col1, col2, ...)`     | Joins strings **without** a separator. Null values cause the result to be null. |\n",
    "| `CONCAT_WS('sep', col1, col2, ...)` | Joins strings **with a separator**. Nulls are skipped. Safer for keys! |\n",
    "\n",
    "---\n",
    "\n",
    "### ✅ Example: Simple Concatenation\n",
    "\n",
    "```sql\n",
    "-- CONCAT (null-sensitive)\n",
    "SELECT product, region, CONCAT(product, region) AS concat_example\n",
    "FROM sales_demo;\n"
   ]
  },
  {
   "cell_type": "code",
   "execution_count": 0,
   "metadata": {
    "application/vnd.databricks.v1+cell": {
     "cellMetadata": {
      "byteLimit": 2048000,
      "rowLimit": 10000
     },
     "inputWidgets": {},
     "nuid": "9f21ccf4-94cd-4e64-b7db-3f8f5ec80e4c",
     "showTitle": true,
     "tableResultSettingsMap": {},
     "title": "Format and string functions"
    }
   },
   "outputs": [],
   "source": [
    "SELECT\n",
    "  UPPER(product) AS product_upper,\n",
    "  region,\n",
    "  CONCAT(product, ' - ', region) AS product_region,\n",
    "  CONCAT_ws(' - ',product, region) AS product_region_2\n",
    "FROM sales_demo;"
   ]
  },
  {
   "cell_type": "markdown",
   "metadata": {
    "application/vnd.databricks.v1+cell": {
     "cellMetadata": {},
     "inputWidgets": {},
     "nuid": "b6ffb331-ef38-4b56-bf54-cf738c6b1433",
     "showTitle": false,
     "tableResultSettingsMap": {},
     "title": ""
    }
   },
   "source": [
    "###🧠 Use Case: Surrogate Key Generation\n",
    "\n",
    "Surrogate keys are often used in data warehousing (e.g., star schema) as unique, consistent identifiers for dimension rows — often replacing natural composite keys. Within ourworkflow this creates uniform name for Primary key of table we create and makes comaprison of records easier.\n",
    "Same process is used for non-key columns from which we make MD5_key\n",
    "\n",
    "A typical pattern is:"
   ]
  },
  {
   "cell_type": "code",
   "execution_count": 0,
   "metadata": {
    "application/vnd.databricks.v1+cell": {
     "cellMetadata": {
      "byteLimit": 2048000,
      "rowLimit": 10000
     },
     "inputWidgets": {},
     "nuid": "47c397ea-18aa-451d-8fb0-7c99a811d4d1",
     "showTitle": true,
     "tableResultSettingsMap": {
      "0": {
       "dataGridStateBlob": "{\"version\":1,\"tableState\":{\"columnPinning\":{\"left\":[\"#row_number#\"],\"right\":[]},\"columnSizing\":{\"row_key\":294},\"columnVisibility\":{}},\"settings\":{\"columns\":{}},\"syncTimestamp\":1752840646438}",
       "filterBlob": null,
       "queryPlanFiltersBlob": null,
       "tableResultIndex": 0
      }
     },
     "title": "MD5 with concat ->surrogate keys"
    }
   },
   "outputs": [],
   "source": [
    "SELECT \n",
    "  product, region, date,\n",
    "  MD5(CONCAT_WS('||', product, region, date)) AS row_key\n",
    "FROM sales_demo;"
   ]
  },
  {
   "cell_type": "markdown",
   "metadata": {
    "application/vnd.databricks.v1+cell": {
     "cellMetadata": {},
     "inputWidgets": {},
     "nuid": "6b384039-52b5-4de2-947b-f62d5ad43da9",
     "showTitle": false,
     "tableResultSettingsMap": {},
     "title": ""
    }
   },
   "source": [
    "\n",
    "## 🔗 JOIN Operations\n",
    "\n",
    "Now let’s join the sales data with a product category table.\n"
   ]
  },
  {
   "cell_type": "markdown",
   "metadata": {
    "application/vnd.databricks.v1+cell": {
     "cellMetadata": {},
     "inputWidgets": {},
     "nuid": "75e56a43-9169-4709-a88a-97626c9bc4a3",
     "showTitle": false,
     "tableResultSettingsMap": {},
     "title": ""
    }
   },
   "source": [
    "🔍 INNER JOIN\n",
    "\n",
    "An **INNER JOIN** returns only the rows where there is a match in both tables based on the join condition.  \n",
    "If no match is found, the row is excluded from the result.  \n",
    "This is the most commonly used type of join for combining related data."
   ]
  },
  {
   "cell_type": "code",
   "execution_count": 0,
   "metadata": {
    "application/vnd.databricks.v1+cell": {
     "cellMetadata": {
      "byteLimit": 2048000,
      "rowLimit": 10000
     },
     "inputWidgets": {},
     "nuid": "4f311cdf-d456-4902-9ff0-fbd83a6ab258",
     "showTitle": true,
     "tableResultSettingsMap": {},
     "title": "INNER JOIN: Only matching products"
    }
   },
   "outputs": [],
   "source": [
    "SELECT s.*, c.category\n",
    "FROM sales_demo s\n",
    "JOIN product_categories c\n",
    "  ON s.product = c.product;\n",
    "\n",
    "---> Only records where there is a match on both sides"
   ]
  },
  {
   "cell_type": "markdown",
   "metadata": {
    "application/vnd.databricks.v1+cell": {
     "cellMetadata": {},
     "inputWidgets": {},
     "nuid": "1efb8827-5fbb-4125-a94d-e7b698630761",
     "showTitle": false,
     "tableResultSettingsMap": {},
     "title": ""
    }
   },
   "source": [
    "🪁 LEFT OUTER JOIN\n",
    "\n",
    "A **LEFT OUTER JOIN** returns all rows from the left table, and the matching rows from the right table.  \n",
    "If there's no match on the right side, NULLs are returned for the right table’s columns.  \n",
    "Useful when you want to keep all records from the left side, even if no related data exists on the right."
   ]
  },
  {
   "cell_type": "code",
   "execution_count": 0,
   "metadata": {
    "application/vnd.databricks.v1+cell": {
     "cellMetadata": {
      "byteLimit": 2048000,
      "rowLimit": 10000
     },
     "inputWidgets": {},
     "nuid": "ee4d1474-36d3-4a77-a2de-4f6a9201a207",
     "showTitle": true,
     "tableResultSettingsMap": {},
     "title": "LEFT JOIN: Keep all sales, even if no category"
    }
   },
   "outputs": [],
   "source": [
    "SELECT s.*, c.category\n",
    "FROM sales_demo s\n",
    "LEFT JOIN product_categories c\n",
    "  ON s.product = c.product;\n",
    "\n",
    "---> All records from sales_demo, only matching records from product_categories ( where is no match -> null)"
   ]
  },
  {
   "cell_type": "markdown",
   "metadata": {
    "application/vnd.databricks.v1+cell": {
     "cellMetadata": {},
     "inputWidgets": {},
     "nuid": "01a7d717-85e5-4b94-81f9-2f89707a0a71",
     "showTitle": false,
     "tableResultSettingsMap": {},
     "title": ""
    }
   },
   "source": [
    "🌐 FULL OUTER JOIN\n",
    "\n",
    "A **FULL OUTER JOIN** returns all rows when there is a match in **either** the left or the right table.  \n",
    "Rows without a match in one of the tables will have NULLs for the missing side.  \n",
    "It’s helpful for finding unmatched records in both tables."
   ]
  },
  {
   "cell_type": "code",
   "execution_count": 0,
   "metadata": {
    "application/vnd.databricks.v1+cell": {
     "cellMetadata": {
      "byteLimit": 2048000,
      "rowLimit": 10000
     },
     "inputWidgets": {},
     "nuid": "e2cb9ee6-0112-4d14-ba13-c0f331a63485",
     "showTitle": true,
     "tableResultSettingsMap": {},
     "title": "FULL OUTER JOIN: Keep all records from both"
    }
   },
   "outputs": [],
   "source": [
    "SELECT s.*, c.category\n",
    "FROM sales_demo s\n",
    "FULL OUTER JOIN product_categories c\n",
    "  ON s.product = c.product;\n",
    "\n",
    "---> All records from both tables (left and right), non matching sides are nulls"
   ]
  },
  {
   "cell_type": "markdown",
   "metadata": {
    "application/vnd.databricks.v1+cell": {
     "cellMetadata": {},
     "inputWidgets": {},
     "nuid": "1113ce03-7c05-433e-8cc9-12ddcdc8cd2e",
     "showTitle": false,
     "tableResultSettingsMap": {},
     "title": ""
    }
   },
   "source": [
    "\n",
    "## ➕ UNION Operations\n",
    "\n",
    "We can combine multiple datasets using UNION or UNION ALL.\n"
   ]
  },
  {
   "cell_type": "code",
   "execution_count": 0,
   "metadata": {
    "application/vnd.databricks.v1+cell": {
     "cellMetadata": {
      "byteLimit": 2048000,
      "rowLimit": 10000
     },
     "inputWidgets": {},
     "nuid": "87861c87-6cbd-485d-9d28-806bab6f191d",
     "showTitle": true,
     "tableResultSettingsMap": {},
     "title": "UNION ALL: Keep all rows"
    }
   },
   "outputs": [],
   "source": [
    "SELECT * FROM sales_demo\n",
    "UNION ALL\n",
    "SELECT * FROM sales_extra;"
   ]
  },
  {
   "cell_type": "code",
   "execution_count": 0,
   "metadata": {
    "application/vnd.databricks.v1+cell": {
     "cellMetadata": {
      "byteLimit": 2048000,
      "rowLimit": 10000
     },
     "inputWidgets": {},
     "nuid": "3465a892-b320-4c0c-93cb-e8a9a86b6c3d",
     "showTitle": true,
     "tableResultSettingsMap": {},
     "title": "UNION: Removes duplicates"
    }
   },
   "outputs": [],
   "source": [
    "SELECT * FROM sales_demo\n",
    "UNION \n",
    "SELECT * FROM sales_extra;\n",
    "\n",
    "--> leaving out one record (Oranges , East)"
   ]
  },
  {
   "cell_type": "markdown",
   "metadata": {
    "application/vnd.databricks.v1+cell": {
     "cellMetadata": {},
     "inputWidgets": {},
     "nuid": "0f0231be-d986-46ad-98fb-bb3f683ed919",
     "showTitle": false,
     "tableResultSettingsMap": {},
     "title": ""
    }
   },
   "source": [
    "\n",
    "## 🧱 Common Table Expressions (CTEs)\n",
    "\n",
    "💡 **CTEs (Common Table Expressions)** are *temporary result sets* that you can reference within a larger SQL query. They make queries more readable, reusable, and often more performant.\n",
    "\n",
    "---\n",
    "\n",
    "### ✅ Why Use CTEs Instead of Subqueries?\n",
    "\n",
    "⚠️ **Best Practice**: Prefer using CTEs over deeply nested subqueries or `WHERE id IN (SELECT ...)` patterns!\n",
    "\n",
    "---\n",
    "\n",
    "### ❗ Key Reasons to Use CTEs:\n",
    "\n",
    "| Advantage | Description |\n",
    "|----------|-------------|\n",
    "| ✅ **Better Readability** | You break down a complex query into understandable blocks. |\n",
    "| ✅ **Easier Debugging** | You can test each CTE independently before chaining logic. |\n",
    "| ✅ **Logical Reuse** | You can reference the same CTE multiple times in one query. |\n",
    "| ✅ **Better Performance (in most engines)** | Spark can better **optimize joins and filters** in CTEs than subqueries inside `WHERE IN`. |\n",
    "\n",
    "---\n",
    "\n",
    "### 🚀 Performance Tip: Avoid `WHERE id IN (SELECT ...)`\n",
    "\n",
    "- In Spark, `WHERE id IN (SELECT ...)` can force **materialization of a subquery** and may lead to **inefficient broadcast joins** or **Cartesian products** if not optimized well.\n",
    "- Using a CTE followed by a **JOIN** allows the Catalyst optimizer to:\n",
    "  - Reorder joins\n",
    "  - Prune unnecessary columns\n",
    "  - Push filters earlier (predicate pushdown)\n"
   ]
  },
  {
   "cell_type": "markdown",
   "metadata": {
    "application/vnd.databricks.v1+cell": {
     "cellMetadata": {},
     "inputWidgets": {},
     "nuid": "e11adb84-69fe-4c35-b607-23d6dcf6276e",
     "showTitle": false,
     "tableResultSettingsMap": {},
     "title": ""
    }
   },
   "source": [
    "### ❌ Using Subquery"
   ]
  },
  {
   "cell_type": "code",
   "execution_count": 0,
   "metadata": {
    "application/vnd.databricks.v1+cell": {
     "cellMetadata": {
      "byteLimit": 2048000,
      "rowLimit": 10000
     },
     "inputWidgets": {},
     "nuid": "d115269d-8988-42fe-ad47-2e2f437a8004",
     "showTitle": true,
     "tableResultSettingsMap": {},
     "title": "subquery"
    }
   },
   "outputs": [],
   "source": [
    "SELECT c.name, \n",
    "       (SELECT MAX(o.order_date)\n",
    "        FROM orders o\n",
    "        WHERE o.customer_id = c.customer_id) AS latest_order\n",
    "FROM customers c\n",
    "WHERE (SELECT COUNT(*) \n",
    "       FROM orders o \n",
    "       WHERE o.customer_id = c.customer_id) > 2;"
   ]
  },
  {
   "cell_type": "markdown",
   "metadata": {
    "application/vnd.databricks.v1+cell": {
     "cellMetadata": {},
     "inputWidgets": {},
     "nuid": "e13a7dcd-0f81-4eac-9e9c-0769c383c9ef",
     "showTitle": false,
     "tableResultSettingsMap": {},
     "title": ""
    }
   },
   "source": [
    "### ✅ Using CTE"
   ]
  },
  {
   "cell_type": "code",
   "execution_count": 0,
   "metadata": {
    "application/vnd.databricks.v1+cell": {
     "cellMetadata": {
      "byteLimit": 2048000,
      "rowLimit": 10000
     },
     "inputWidgets": {},
     "nuid": "25dbab54-d481-4d66-be5d-d89101a4130e",
     "showTitle": true,
     "tableResultSettingsMap": {},
     "title": "CTE"
    }
   },
   "outputs": [],
   "source": [
    "WITH order_stats AS (   ---> first specifing intermediate step\n",
    "  SELECT customer_id, \n",
    "         COUNT(*) AS order_count,\n",
    "         MAX(order_date) AS latest_order\n",
    "  FROM orders\n",
    "  GROUP BY customer_id\n",
    ")\n",
    "SELECT c.name, o.latest_order\n",
    "FROM customers c\n",
    "JOIN order_stats o ----> than using predefined object\n",
    "  ON c.customer_id = o.customer_id\n",
    "WHERE o.order_count > 2;"
   ]
  },
  {
   "cell_type": "markdown",
   "metadata": {
    "application/vnd.databricks.v1+cell": {
     "cellMetadata": {},
     "inputWidgets": {},
     "nuid": "16299bbf-84a1-4be2-857d-52332f45c3ac",
     "showTitle": false,
     "tableResultSettingsMap": {},
     "title": ""
    }
   },
   "source": [
    "\n",
    "## 🏅 QUALIFY — Cleaner Filtering of Ranked Rows\n",
    "\n",
    "In traditional SQL (and in Spark SQL too), to **filter based on `ROW_NUMBER()` or `RANK()`**, people often:\n",
    "\n",
    "- Add the window function in a subquery\n",
    "- Filter the result in the outer query using `WHERE row_num = 1`\n",
    "\n",
    "But this leads to **nested queries**, making it harder to read and optimize.\n",
    "\n",
    "\n"
   ]
  },
  {
   "cell_type": "markdown",
   "metadata": {
    "application/vnd.databricks.v1+cell": {
     "cellMetadata": {},
     "inputWidgets": {},
     "nuid": "090e5500-f2ec-4de9-b023-896aa66cab74",
     "showTitle": false,
     "tableResultSettingsMap": {},
     "title": ""
    }
   },
   "source": [
    "### ❌ Old Way: Using Subquery with `WHERE`"
   ]
  },
  {
   "cell_type": "code",
   "execution_count": 0,
   "metadata": {
    "application/vnd.databricks.v1+cell": {
     "cellMetadata": {
      "byteLimit": 2048000,
      "rowLimit": 10000
     },
     "inputWidgets": {},
     "nuid": "ce535320-864f-4f76-86b5-db12f5469e09",
     "showTitle": true,
     "tableResultSettingsMap": {},
     "title": "WHERE row_num = 1"
    }
   },
   "outputs": [],
   "source": [
    "SELECT date,\n",
    "       product,\n",
    "       quantity,\n",
    "       price_per_unit,\n",
    "       region\n",
    "FROM (\n",
    "  SELECT *,\n",
    "         ROW_NUMBER() OVER (PARTITION BY region ORDER BY quantity DESC) AS row_num\n",
    "  FROM sales_demo\n",
    ") ranked_sales\n",
    "WHERE row_num = 1;"
   ]
  },
  {
   "cell_type": "markdown",
   "metadata": {
    "application/vnd.databricks.v1+cell": {
     "cellMetadata": {},
     "inputWidgets": {},
     "nuid": "308580ca-cc9e-491c-8bb5-3fbf5aeab88b",
     "showTitle": false,
     "tableResultSettingsMap": {},
     "title": ""
    }
   },
   "source": [
    "### ✅ Better Way: Using QUALIFY"
   ]
  },
  {
   "cell_type": "code",
   "execution_count": 0,
   "metadata": {
    "application/vnd.databricks.v1+cell": {
     "cellMetadata": {
      "byteLimit": 2048000,
      "rowLimit": 10000
     },
     "inputWidgets": {},
     "nuid": "adcd7d53-fcab-4393-a6ec-8c708518dd92",
     "showTitle": true,
     "tableResultSettingsMap": {},
     "title": "Qualify"
    }
   },
   "outputs": [],
   "source": [
    "SELECT *\n",
    "FROM sales_demo\n",
    "QUALIFY ROW_NUMBER() OVER (PARTITION BY region ORDER BY quantity DESC) = 1;"
   ]
  },
  {
   "cell_type": "code",
   "execution_count": 0,
   "metadata": {
    "application/vnd.databricks.v1+cell": {
     "cellMetadata": {},
     "inputWidgets": {},
     "nuid": "45467744-c9db-491b-b4d1-75d540da374b",
     "showTitle": false,
     "tableResultSettingsMap": {},
     "title": ""
    }
   },
   "outputs": [],
   "source": []
  },
  {
   "cell_type": "markdown",
   "metadata": {
    "application/vnd.databricks.v1+cell": {
     "cellMetadata": {},
     "inputWidgets": {},
     "nuid": "f155e231-fe17-41c0-b54c-a3d817ce48b9",
     "showTitle": false,
     "tableResultSettingsMap": {},
     "title": ""
    }
   },
   "source": [
    "## ⏳ Delta Lake Features: Time Travel and Versioning\n",
    "\n",
    "Delta Lake brings powerful features on top of Apache Spark and Parquet to enable **reliable**, **ACID-compliant** data lakes.\n",
    "\n",
    "One of its key capabilities is **time travel**, allowing you to query, compare, and restore data from previous versions of a Delta table effortlessly.\n",
    "\n",
    "---\n",
    "\n",
    "### 🕰️ What is Time Travel?\n",
    "\n",
    "- Delta Lake stores all changes and versions of a table as data files and transaction logs.\n",
    "- You can query the table “as of” a previous **version number** or **timestamp**.\n",
    "- This enables:\n",
    "  - Auditing data changes\n",
    "  - Debugging by comparing versions\n",
    "  - Undoing accidental deletes or corruptions\n",
    "\n",
    "---\n",
    "\n",
    "### 🔍 Comparing Two Versions to Find New Rows\n",
    "\n",
    "You can compare two versions of a table to identify:\n",
    "\n",
    "- Rows added\n",
    "- Rows deleted\n",
    "- Rows updated\n",
    "\n",
    "For example, to find rows that were added in version N compared to version N-1.\n",
    "\n",
    "---\n",
    "\n",
    "### 🔄 Reverting to a Previous Version\n",
    "\n",
    "If you find issues in the latest data, you can restore the table to a previous version by **writing over** with that version’s data or using Delta’s `RESTORE` command (Databricks Premium).\n",
    "\n",
    "---\n",
    "\n",
    "### ⚡ Benefits of Time Travel\n",
    "\n",
    "- Simplifies data recovery and compliance.\n",
    "- Enables auditability and reproducibility.\n",
    "- Supports complex data pipelines with rollback and snapshot functionality.\n",
    "\n",
    "---\n",
    "\n",
    "Next, let's see how to use these features with SQL examples!\n"
   ]
  },
  {
   "cell_type": "markdown",
   "metadata": {
    "application/vnd.databricks.v1+cell": {
     "cellMetadata": {},
     "inputWidgets": {},
     "nuid": "6dd9e787-510b-4ad5-a037-61b8878c9aba",
     "showTitle": false,
     "tableResultSettingsMap": {},
     "title": ""
    }
   },
   "source": [
    "1. inicial load of table creating V0"
   ]
  },
  {
   "cell_type": "code",
   "execution_count": 0,
   "metadata": {
    "application/vnd.databricks.v1+cell": {
     "cellMetadata": {
      "byteLimit": 2048000,
      "rowLimit": 10000
     },
     "inputWidgets": {},
     "nuid": "c1ac42b3-ca84-479f-9e53-3bd96bde53d1",
     "showTitle": true,
     "tableResultSettingsMap": {},
     "title": "initial load V0"
    }
   },
   "outputs": [],
   "source": [
    "CREATE OR REPLACE TABLE delta_demo (\n",
    "  id INT,\n",
    "  name STRING,\n",
    "  value INT\n",
    ") USING DELTA;                        "
   ]
  },
  {
   "cell_type": "markdown",
   "metadata": {
    "application/vnd.databricks.v1+cell": {
     "cellMetadata": {},
     "inputWidgets": {},
     "nuid": "b92b37ba-18d0-44f0-b006-f01bcb9e8336",
     "showTitle": false,
     "tableResultSettingsMap": {},
     "title": ""
    }
   },
   "source": [
    "2. First insert operation , creates V1 ( each time you run Insert, it created new version and track history), for now execute only once to folow up excercise "
   ]
  },
  {
   "cell_type": "code",
   "execution_count": 0,
   "metadata": {
    "application/vnd.databricks.v1+cell": {
     "cellMetadata": {
      "byteLimit": 2048000,
      "rowLimit": 10000
     },
     "inputWidgets": {},
     "nuid": "ed7fc5c2-be88-4ed8-8106-c32165ad0235",
     "showTitle": true,
     "tableResultSettingsMap": {},
     "title": "first insert of values V1"
    }
   },
   "outputs": [],
   "source": [
    "INSERT INTO delta_demo VALUES\n",
    "  (1, 'A', 100),\n",
    "  (2, 'B', 200);"
   ]
  },
  {
   "cell_type": "markdown",
   "metadata": {
    "application/vnd.databricks.v1+cell": {
     "cellMetadata": {},
     "inputWidgets": {},
     "nuid": "357fb5e4-7b06-4fe7-91cc-9601a3155f4d",
     "showTitle": false,
     "tableResultSettingsMap": {},
     "title": ""
    }
   },
   "source": [
    "3. observe history of table and actions applied on it\n"
   ]
  },
  {
   "cell_type": "code",
   "execution_count": 0,
   "metadata": {
    "application/vnd.databricks.v1+cell": {
     "cellMetadata": {
      "byteLimit": 2048000,
      "rowLimit": 10000
     },
     "inputWidgets": {},
     "nuid": "ec009288-5382-4f4c-b6f0-ec6ff1a77f99",
     "showTitle": true,
     "tableResultSettingsMap": {},
     "title": "DESCRIBE history V0 and V1 visible"
    }
   },
   "outputs": [],
   "source": [
    "DESCRIBE HISTORY delta_demo;"
   ]
  },
  {
   "cell_type": "markdown",
   "metadata": {
    "application/vnd.databricks.v1+cell": {
     "cellMetadata": {},
     "inputWidgets": {},
     "nuid": "f5469675-39cd-4500-82d9-4602910a7b01",
     "showTitle": false,
     "tableResultSettingsMap": {},
     "title": ""
    }
   },
   "source": [
    "4. Insert another set of records , create V3"
   ]
  },
  {
   "cell_type": "code",
   "execution_count": 0,
   "metadata": {
    "application/vnd.databricks.v1+cell": {
     "cellMetadata": {
      "byteLimit": 2048000,
      "rowLimit": 10000
     },
     "inputWidgets": {},
     "nuid": "75dbd1e5-436a-456a-b357-ca4e8cddf11a",
     "showTitle": true,
     "tableResultSettingsMap": {},
     "title": "another insert V2"
    }
   },
   "outputs": [],
   "source": [
    "INSERT INTO delta_demo VALUES\n",
    "  (3, 'C', 300),\n",
    "  (4, 'D', 400);"
   ]
  },
  {
   "cell_type": "markdown",
   "metadata": {
    "application/vnd.databricks.v1+cell": {
     "cellMetadata": {},
     "inputWidgets": {},
     "nuid": "f8534f57-1c43-46ad-a4a8-0e72c104c988",
     "showTitle": false,
     "tableResultSettingsMap": {},
     "title": ""
    }
   },
   "source": [
    " Selecting specific version from history of table instead of latest version (default)"
   ]
  },
  {
   "cell_type": "code",
   "execution_count": 0,
   "metadata": {
    "application/vnd.databricks.v1+cell": {
     "cellMetadata": {
      "byteLimit": 2048000,
      "rowLimit": 10000
     },
     "inputWidgets": {},
     "nuid": "d0d1fdb7-3014-40c6-beb7-6f8cdb508f76",
     "showTitle": true,
     "tableResultSettingsMap": {},
     "title": "timetravel to V1"
    }
   },
   "outputs": [],
   "source": [
    "SELECT * FROM delta_demo VERSION AS OF 1;"
   ]
  },
  {
   "cell_type": "markdown",
   "metadata": {
    "application/vnd.databricks.v1+cell": {
     "cellMetadata": {},
     "inputWidgets": {},
     "nuid": "8165c920-2ac8-4eb6-9693-e53cf5b7630f",
     "showTitle": false,
     "tableResultSettingsMap": {},
     "title": ""
    }
   },
   "source": [
    "Select lates version ( default state)"
   ]
  },
  {
   "cell_type": "code",
   "execution_count": 0,
   "metadata": {
    "application/vnd.databricks.v1+cell": {
     "cellMetadata": {
      "byteLimit": 2048000,
      "rowLimit": 10000
     },
     "inputWidgets": {},
     "nuid": "86c2dd88-2cd5-4c3c-965e-fcca4fa69218",
     "showTitle": true,
     "tableResultSettingsMap": {},
     "title": "select current version"
    }
   },
   "outputs": [],
   "source": [
    "SELECT * FROM delta_demo;"
   ]
  },
  {
   "cell_type": "markdown",
   "metadata": {
    "application/vnd.databricks.v1+cell": {
     "cellMetadata": {},
     "inputWidgets": {},
     "nuid": "400ca0be-2420-4fb8-8f0f-fc997a59e904",
     "showTitle": false,
     "tableResultSettingsMap": {},
     "title": ""
    }
   },
   "source": [
    "Select difference between 2 version .. see which records were added between 0 ( create empty table) and 1 ( after first insert)"
   ]
  },
  {
   "cell_type": "code",
   "execution_count": 0,
   "metadata": {
    "application/vnd.databricks.v1+cell": {
     "cellMetadata": {
      "byteLimit": 2048000,
      "rowLimit": 10000
     },
     "inputWidgets": {},
     "nuid": "5d63f26e-a0b1-461f-8769-8016f00a1953",
     "showTitle": true,
     "tableResultSettingsMap": {},
     "title": "compare versions"
    }
   },
   "outputs": [],
   "source": [
    "SELECT * FROM delta_demo VERSION AS OF 1\n",
    "EXCEPT\n",
    "SELECT * FROM delta_demo VERSION AS OF 0;"
   ]
  },
  {
   "cell_type": "markdown",
   "metadata": {
    "application/vnd.databricks.v1+cell": {
     "cellMetadata": {},
     "inputWidgets": {},
     "nuid": "8286c70f-0021-4f39-bc2b-563fb010512b",
     "showTitle": false,
     "tableResultSettingsMap": {},
     "title": ""
    }
   },
   "source": [
    "After excercite, clean table so its not sotred in catalog"
   ]
  },
  {
   "cell_type": "code",
   "execution_count": 0,
   "metadata": {
    "application/vnd.databricks.v1+cell": {
     "cellMetadata": {
      "byteLimit": 2048000,
      "rowLimit": 10000
     },
     "inputWidgets": {},
     "nuid": "f1c5107a-f780-4a9f-9112-96ad17a1e6e4",
     "showTitle": true,
     "tableResultSettingsMap": {},
     "title": "clean session"
    }
   },
   "outputs": [],
   "source": [
    "drop table if exists delta_demo"
   ]
  }
 ],
 "metadata": {
  "application/vnd.databricks.v1+notebook": {
   "computePreferences": {
    "hardware": {
     "accelerator": null,
     "gpuPoolId": null,
     "memory": null
    }
   },
   "dashboards": [],
   "environmentMetadata": {
    "base_environment": "",
    "environment_version": "2"
   },
   "inputWidgetPreferences": null,
   "language": "sql",
   "notebookMetadata": {
    "pythonIndentUnit": 4
   },
   "notebookName": "1. Spark SQL basics",
   "widgets": {}
  },
  "language_info": {
   "name": "sql"
  }
 },
 "nbformat": 4,
 "nbformat_minor": 0
}
