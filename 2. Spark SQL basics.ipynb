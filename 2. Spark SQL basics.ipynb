{
 "cells": [
  {
   "cell_type": "markdown",
   "metadata": {
    "application/vnd.databricks.v1+cell": {
     "cellMetadata": {},
     "inputWidgets": {},
     "nuid": "920e0f05-20f0-49c1-85fc-75cccc23efea",
     "showTitle": false,
     "tableResultSettingsMap": {},
     "title": ""
    }
   },
   "source": [
    "## Building prerequisites\n"
   ]
  },
  {
   "cell_type": "code",
   "execution_count": 0,
   "metadata": {
    "application/vnd.databricks.v1+cell": {
     "cellMetadata": {
      "byteLimit": 2048000,
      "rowLimit": 10000
     },
     "inputWidgets": {},
     "nuid": "12a1984f-d10e-4e29-9feb-469e8379643d",
     "showTitle": true,
     "tableResultSettingsMap": {},
     "title": "prerequisites"
    }
   },
   "outputs": [],
   "source": [
    "CREATE OR REPLACE TEMP VIEW sales_demo AS\n",
    "SELECT * FROM VALUES\n",
    "  ('2025-07-01', 'Apples', 10, 2.5, 'North'),\n",
    "  ('2025-07-01', 'Oranges', 5, 3.0, 'North'),\n",
    "  ('2025-07-02', 'Apples', 8, 2.5, 'South'),\n",
    "  ('2025-07-02', 'Bananas', 15, 1.2, Null),\n",
    "  ('2025-07-03', 'Oranges', 7, 3.0, 'East')\n",
    "AS sales(date, product, quantity, price_per_unit, region);\n",
    "\n",
    "CREATE OR REPLACE TEMP VIEW product_categories AS\n",
    "SELECT * FROM VALUES\n",
    "  ('Apples', 'Fruit'),\n",
    "  ('Oranges', 'Fruit'),\n",
    "  ('Tomatoes', 'Vegetable')\n",
    "AS categories(product, category);\n",
    "\n",
    "CREATE OR REPLACE TEMP VIEW sales_extra AS\n",
    "SELECT * FROM VALUES\n",
    "  ('2025-07-04', 'Apples', 6, 2.5, 'North'),\n",
    "  ('2025-07-04', 'Oranges', 9, 3.0, 'West'),\n",
    "  ('2025-07-03', 'Oranges', 7, 3.0, 'East')\n",
    "AS sales(date, product, quantity, price_per_unit, region);"
   ]
  },
  {
   "cell_type": "markdown",
   "metadata": {
    "application/vnd.databricks.v1+cell": {
     "cellMetadata": {},
     "inputWidgets": {},
     "nuid": "666db885-bba0-4e81-bd30-26ea0379f718",
     "showTitle": false,
     "tableResultSettingsMap": {},
     "title": ""
    }
   },
   "source": [
    "\n",
    "\n",
    "## 🧪 SELECT and Functions\n",
    "\n",
    "Let's explore how to use SELECT queries with some of the useful functions.\n",
    "\n",
    "for more possibilities check documentation:\n",
    "🔗 https://spark.apache.org/docs/latest/api/sql/index.html "
   ]
  },
  {
   "cell_type": "code",
   "execution_count": 0,
   "metadata": {
    "application/vnd.databricks.v1+cell": {
     "cellMetadata": {
      "byteLimit": 2048000,
      "rowLimit": 10000
     },
     "inputWidgets": {},
     "nuid": "e136ff31-1995-48e9-b830-71023305ea55",
     "showTitle": true,
     "tableResultSettingsMap": {},
     "title": "Date and conditional logic"
    }
   },
   "outputs": [],
   "source": [
    "SELECT\n",
    "  date,\n",
    "  year(date),\n",
    "  month(date),\n",
    "  product,\n",
    "  quantity,\n",
    "  CASE \n",
    "    WHEN quantity > 10 THEN 'High'\n",
    "    WHEN quantity > 5 THEN 'Medium'\n",
    "    ELSE 'Low'\n",
    "  END AS demand_level\n",
    "FROM sales_demo;"
   ]
  },
  {
   "cell_type": "markdown",
   "metadata": {
    "application/vnd.databricks.v1+cell": {
     "cellMetadata": {},
     "inputWidgets": {},
     "nuid": "5862c36b-f1a3-4848-a467-ce9d7ed87120",
     "showTitle": false,
     "tableResultSettingsMap": {},
     "title": ""
    }
   },
   "source": [
    "\n",
    "### 🔗 String Concatenation in Spark SQL\n",
    "\n",
    "When combining multiple columns into a single string, Spark SQL offers:\n",
    "\n",
    "| Function     | Description |\n",
    "|--------------|-------------|\n",
    "| `CONCAT(col1, col2, ...)`     | Joins strings **without** a separator. Null values cause the result to be null. |\n",
    "| `CONCAT_WS('sep', col1, col2, ...)` | Joins strings **with a separator**. Nulls are skipped. Safer for keys! |\n",
    "\n",
    "---\n",
    "\n",
    "### ✅ Example: Simple Concatenation\n",
    "\n",
    "```sql\n",
    "-- CONCAT (null-sensitive)\n",
    "SELECT product, region, CONCAT(product, region) AS concat_example\n",
    "FROM sales_demo;\n"
   ]
  },
  {
   "cell_type": "code",
   "execution_count": 0,
   "metadata": {
    "application/vnd.databricks.v1+cell": {
     "cellMetadata": {
      "byteLimit": 2048000,
      "rowLimit": 10000
     },
     "inputWidgets": {},
     "nuid": "9f21ccf4-94cd-4e64-b7db-3f8f5ec80e4c",
     "showTitle": true,
     "tableResultSettingsMap": {},
     "title": "Format and string functions"
    }
   },
   "outputs": [],
   "source": [
    "SELECT\n",
    "  UPPER(product) AS product_upper,\n",
    "  region,\n",
    "  CONCAT(product, ' - ', region) AS product_region,\n",
    "  CONCAT_ws(' - ',product, region) AS product_region_2\n",
    "FROM sales_demo;"
   ]
  },
  {
   "cell_type": "markdown",
   "metadata": {
    "application/vnd.databricks.v1+cell": {
     "cellMetadata": {},
     "inputWidgets": {},
     "nuid": "b6ffb331-ef38-4b56-bf54-cf738c6b1433",
     "showTitle": false,
     "tableResultSettingsMap": {},
     "title": ""
    }
   },
   "source": [
    "###🧠 Use Case: Surrogate Key Generation\n",
    "\n",
    "Surrogate keys are often used in data warehousing (e.g., star schema) as unique, consistent identifiers for dimension rows — often replacing natural composite keys. Within ourworkflow this creates uniform name for Primary key of table we create and makes comaprison of records easier.\n",
    "Same process is used for non-key columns from which we make MD5_key\n",
    "\n",
    "A typical pattern is:"
   ]
  },
  {
   "cell_type": "code",
   "execution_count": 0,
   "metadata": {
    "application/vnd.databricks.v1+cell": {
     "cellMetadata": {
      "byteLimit": 2048000,
      "rowLimit": 10000
     },
     "inputWidgets": {},
     "nuid": "47c397ea-18aa-451d-8fb0-7c99a811d4d1",
     "showTitle": true,
     "tableResultSettingsMap": {
      "0": {
       "dataGridStateBlob": "{\"version\":1,\"tableState\":{\"columnPinning\":{\"left\":[\"#row_number#\"],\"right\":[]},\"columnSizing\":{\"row_key\":294},\"columnVisibility\":{}},\"settings\":{\"columns\":{}},\"syncTimestamp\":1752840646438}",
       "filterBlob": null,
       "queryPlanFiltersBlob": null,
       "tableResultIndex": 0
      }
     },
     "title": "MD5 with concat ->surrogate keys"
    }
   },
   "outputs": [],
   "source": [
    "SELECT \n",
    "  product, region, date,\n",
    "  MD5(CONCAT_WS('||', product, region, date)) AS row_key\n",
    "FROM sales_demo;"
   ]
  },
  {
   "cell_type": "markdown",
   "metadata": {
    "application/vnd.databricks.v1+cell": {
     "cellMetadata": {},
     "inputWidgets": {},
     "nuid": "6b384039-52b5-4de2-947b-f62d5ad43da9",
     "showTitle": false,
     "tableResultSettingsMap": {},
     "title": ""
    }
   },
   "source": [
    "\n",
    "## 🔗 JOIN Operations\n",
    "\n",
    "Now let’s join the sales data with a product category table.\n"
   ]
  },
  {
   "cell_type": "code",
   "execution_count": 0,
   "metadata": {
    "application/vnd.databricks.v1+cell": {
     "cellMetadata": {
      "byteLimit": 2048000,
      "rowLimit": 10000
     },
     "inputWidgets": {},
     "nuid": "4f311cdf-d456-4902-9ff0-fbd83a6ab258",
     "showTitle": true,
     "tableResultSettingsMap": {},
     "title": "INNER JOIN: Only matching products"
    }
   },
   "outputs": [],
   "source": [
    "SELECT s.*, c.category\n",
    "FROM sales_demo s\n",
    "JOIN product_categories c\n",
    "  ON s.product = c.product;"
   ]
  },
  {
   "cell_type": "code",
   "execution_count": 0,
   "metadata": {
    "application/vnd.databricks.v1+cell": {
     "cellMetadata": {
      "byteLimit": 2048000,
      "rowLimit": 10000
     },
     "inputWidgets": {},
     "nuid": "ee4d1474-36d3-4a77-a2de-4f6a9201a207",
     "showTitle": true,
     "tableResultSettingsMap": {},
     "title": "LEFT JOIN: Keep all sales, even if no category"
    }
   },
   "outputs": [],
   "source": [
    "SELECT s.*, c.category\n",
    "FROM sales_demo s\n",
    "LEFT JOIN product_categories c\n",
    "  ON s.product = c.product;"
   ]
  },
  {
   "cell_type": "code",
   "execution_count": 0,
   "metadata": {
    "application/vnd.databricks.v1+cell": {
     "cellMetadata": {
      "byteLimit": 2048000,
      "rowLimit": 10000
     },
     "inputWidgets": {},
     "nuid": "e2cb9ee6-0112-4d14-ba13-c0f331a63485",
     "showTitle": true,
     "tableResultSettingsMap": {},
     "title": "FULL OUTER JOIN: Keep all records from both"
    }
   },
   "outputs": [],
   "source": [
    "SELECT s.*, c.category\n",
    "FROM sales_demo s\n",
    "FULL OUTER JOIN product_categories c\n",
    "  ON s.product = c.product;"
   ]
  },
  {
   "cell_type": "markdown",
   "metadata": {
    "application/vnd.databricks.v1+cell": {
     "cellMetadata": {},
     "inputWidgets": {},
     "nuid": "1113ce03-7c05-433e-8cc9-12ddcdc8cd2e",
     "showTitle": false,
     "tableResultSettingsMap": {},
     "title": ""
    }
   },
   "source": [
    "\n",
    "## ➕ UNION Operations\n",
    "\n",
    "We can combine multiple datasets using UNION or UNION ALL.\n"
   ]
  },
  {
   "cell_type": "code",
   "execution_count": 0,
   "metadata": {
    "application/vnd.databricks.v1+cell": {
     "cellMetadata": {
      "byteLimit": 2048000,
      "rowLimit": 10000
     },
     "inputWidgets": {},
     "nuid": "87861c87-6cbd-485d-9d28-806bab6f191d",
     "showTitle": true,
     "tableResultSettingsMap": {},
     "title": "UNION ALL: Keep all rows"
    }
   },
   "outputs": [],
   "source": [
    "SELECT * FROM sales_demo\n",
    "UNION ALL\n",
    "SELECT * FROM sales_extra;"
   ]
  },
  {
   "cell_type": "code",
   "execution_count": 0,
   "metadata": {
    "application/vnd.databricks.v1+cell": {
     "cellMetadata": {
      "byteLimit": 2048000,
      "rowLimit": 10000
     },
     "inputWidgets": {},
     "nuid": "3465a892-b320-4c0c-93cb-e8a9a86b6c3d",
     "showTitle": true,
     "tableResultSettingsMap": {},
     "title": "UNION: Removes duplicates"
    }
   },
   "outputs": [],
   "source": [
    "SELECT * FROM sales_demo\n",
    "UNION\n",
    "SELECT * FROM sales_extra;"
   ]
  },
  {
   "cell_type": "markdown",
   "metadata": {
    "application/vnd.databricks.v1+cell": {
     "cellMetadata": {},
     "inputWidgets": {},
     "nuid": "0f0231be-d986-46ad-98fb-bb3f683ed919",
     "showTitle": false,
     "tableResultSettingsMap": {},
     "title": ""
    }
   },
   "source": [
    "\n",
    "## 🧱 Common Table Expressions (CTEs)\n",
    "\n",
    "💡 **CTEs (Common Table Expressions)** are *temporary result sets* that you can reference within a larger SQL query. They make queries more readable, reusable, and often more performant.\n",
    "\n",
    "---\n",
    "\n",
    "### ✅ Why Use CTEs Instead of Subqueries?\n",
    "\n",
    "⚠️ **Best Practice**: Prefer using CTEs over deeply nested subqueries or `WHERE id IN (SELECT ...)` patterns!\n",
    "\n",
    "---\n",
    "\n",
    "### ❗ Key Reasons to Use CTEs:\n",
    "\n",
    "| Advantage | Description |\n",
    "|----------|-------------|\n",
    "| ✅ **Better Readability** | You break down a complex query into understandable blocks. |\n",
    "| ✅ **Easier Debugging** | You can test each CTE independently before chaining logic. |\n",
    "| ✅ **Logical Reuse** | You can reference the same CTE multiple times in one query. |\n",
    "| ✅ **Better Performance (in most engines)** | Spark can better **optimize joins and filters** in CTEs than subqueries inside `WHERE IN`. |\n",
    "\n",
    "---\n",
    "\n",
    "### 🚀 Performance Tip: Avoid `WHERE id IN (SELECT ...)`\n",
    "\n",
    "- In Spark, `WHERE id IN (SELECT ...)` can force **materialization of a subquery** and may lead to **inefficient broadcast joins** or **Cartesian products** if not optimized well.\n",
    "- Using a CTE followed by a **JOIN** allows the Catalyst optimizer to:\n",
    "  - Reorder joins\n",
    "  - Prune unnecessary columns\n",
    "  - Push filters earlier (predicate pushdown)\n"
   ]
  },
  {
   "cell_type": "code",
   "execution_count": 0,
   "metadata": {
    "application/vnd.databricks.v1+cell": {
     "cellMetadata": {
      "byteLimit": 2048000,
      "rowLimit": 10000
     },
     "inputWidgets": {},
     "nuid": "d115269d-8988-42fe-ad47-2e2f437a8004",
     "showTitle": true,
     "tableResultSettingsMap": {},
     "title": "subquery"
    }
   },
   "outputs": [],
   "source": [
    "SELECT * FROM sales_demo\n",
    "WHERE product IN (\n",
    "  SELECT product FROM product_categories WHERE category = 'Fruit'\n",
    ")"
   ]
  },
  {
   "cell_type": "code",
   "execution_count": 0,
   "metadata": {
    "application/vnd.databricks.v1+cell": {
     "cellMetadata": {
      "byteLimit": 2048000,
      "rowLimit": 10000
     },
     "inputWidgets": {},
     "nuid": "25dbab54-d481-4d66-be5d-d89101a4130e",
     "showTitle": true,
     "tableResultSettingsMap": {},
     "title": "CTE"
    }
   },
   "outputs": [],
   "source": [
    "WITH fruits AS (\n",
    "  SELECT product FROM product_categories WHERE category = 'Fruit'\n",
    ")\n",
    "SELECT s.*\n",
    "FROM sales_demo s\n",
    "JOIN fruits f ON s.product = f.product"
   ]
  },
  {
   "cell_type": "markdown",
   "metadata": {
    "application/vnd.databricks.v1+cell": {
     "cellMetadata": {},
     "inputWidgets": {},
     "nuid": "16299bbf-84a1-4be2-857d-52332f45c3ac",
     "showTitle": false,
     "tableResultSettingsMap": {},
     "title": ""
    }
   },
   "source": [
    "\n",
    "## 🏅 QUALIFY — Cleaner Filtering of Ranked Rows\n",
    "\n",
    "In traditional SQL (and in Spark SQL too), to **filter based on `ROW_NUMBER()` or `RANK()`**, people often:\n",
    "\n",
    "- Add the window function in a subquery\n",
    "- Filter the result in the outer query using `WHERE row_num = 1`\n",
    "\n",
    "But this leads to **nested queries**, making it harder to read and optimize.\n",
    "\n",
    "\n"
   ]
  },
  {
   "cell_type": "markdown",
   "metadata": {
    "application/vnd.databricks.v1+cell": {
     "cellMetadata": {},
     "inputWidgets": {},
     "nuid": "090e5500-f2ec-4de9-b023-896aa66cab74",
     "showTitle": false,
     "tableResultSettingsMap": {},
     "title": ""
    }
   },
   "source": [
    "### ❌ Old Way: Using Subquery with `WHERE`"
   ]
  },
  {
   "cell_type": "code",
   "execution_count": 0,
   "metadata": {
    "application/vnd.databricks.v1+cell": {
     "cellMetadata": {
      "byteLimit": 2048000,
      "rowLimit": 10000
     },
     "inputWidgets": {},
     "nuid": "ce535320-864f-4f76-86b5-db12f5469e09",
     "showTitle": true,
     "tableResultSettingsMap": {},
     "title": "WHERE row_num = 1"
    }
   },
   "outputs": [],
   "source": [
    "SELECT date,\n",
    "       product,\n",
    "       quantity,\n",
    "       price_per_unit,\n",
    "       region\n",
    "FROM (\n",
    "  SELECT *,\n",
    "         ROW_NUMBER() OVER (PARTITION BY region ORDER BY quantity DESC) AS row_num\n",
    "  FROM sales_demo\n",
    ") ranked_sales\n",
    "WHERE row_num = 1;"
   ]
  },
  {
   "cell_type": "markdown",
   "metadata": {
    "application/vnd.databricks.v1+cell": {
     "cellMetadata": {},
     "inputWidgets": {},
     "nuid": "308580ca-cc9e-491c-8bb5-3fbf5aeab88b",
     "showTitle": false,
     "tableResultSettingsMap": {},
     "title": ""
    }
   },
   "source": [
    "### ✅ Better Way: Using QUALIFY"
   ]
  },
  {
   "cell_type": "code",
   "execution_count": 0,
   "metadata": {
    "application/vnd.databricks.v1+cell": {
     "cellMetadata": {
      "byteLimit": 2048000,
      "rowLimit": 10000
     },
     "inputWidgets": {},
     "nuid": "adcd7d53-fcab-4393-a6ec-8c708518dd92",
     "showTitle": true,
     "tableResultSettingsMap": {},
     "title": "Qualify"
    }
   },
   "outputs": [],
   "source": [
    "SELECT *\n",
    "FROM sales_demo\n",
    "QUALIFY ROW_NUMBER() OVER (PARTITION BY region ORDER BY quantity DESC) = 1;"
   ]
  }
 ],
 "metadata": {
  "application/vnd.databricks.v1+notebook": {
   "computePreferences": null,
   "dashboards": [],
   "environmentMetadata": {
    "base_environment": "",
    "environment_version": "2"
   },
   "inputWidgetPreferences": null,
   "language": "sql",
   "notebookMetadata": {
    "pythonIndentUnit": 4
   },
   "notebookName": "2. Spark SQL basics",
   "widgets": {}
  },
  "language_info": {
   "name": "sql"
  }
 },
 "nbformat": 4,
 "nbformat_minor": 0
}
